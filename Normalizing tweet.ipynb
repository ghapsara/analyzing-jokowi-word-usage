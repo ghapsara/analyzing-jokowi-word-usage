{
 "cells": [
  {
   "cell_type": "markdown",
   "metadata": {},
   "source": [
    "# Normalizing tweet\n",
    "\n",
    "- remove stopwords from message\n",
    "- remove number and symbol\n",
    "- remove retweeted tweet\n"
   ]
  },
  {
   "cell_type": "code",
   "execution_count": 1,
   "metadata": {
    "collapsed": true
   },
   "outputs": [],
   "source": [
    "import pandas as pd\n",
    "import re"
   ]
  },
  {
   "cell_type": "code",
   "execution_count": 2,
   "metadata": {
    "collapsed": true
   },
   "outputs": [],
   "source": [
    "def clean_message_string(message):\n",
    "    #remove url\n",
    "    message = re.sub(\"http\\S+\", '', message)\n",
    "    #remove number and symbol \n",
    "    message = re.sub(\"[^A-Za-z ]\", '', message)\n",
    "    \n",
    "    stopwords_id_csv = pd.read_csv('data/stopwords_id.csv', header=None)\n",
    "    stopwords_en_csv = pd.read_csv('data/stopwords_en.csv', header=None)\n",
    "\n",
    "    stopwords = [w for w in stopwords_id_csv[0]] + [w for w in stopwords_en_csv[0]]\n",
    "    \n",
    "    message_words = message.lower().split(' ')\n",
    "    normalized_message = [word for word in message_words if word not in stopwords]\n",
    "    \n",
    "    results = ' '.join(normalized_message)\n",
    "    #remove multispace\n",
    "    results = re.sub('\\s+', ' ', results)\n",
    "    \n",
    "    return results.strip()\n"
   ]
  },
  {
   "cell_type": "markdown",
   "metadata": {},
   "source": [
    "#### writing json result\n",
    "\n",
    "writing result for every account"
   ]
  },
  {
   "cell_type": "code",
   "execution_count": 3,
   "metadata": {},
   "outputs": [
    {
     "data": {
      "text/html": [
       "<div>\n",
       "<style>\n",
       "    .dataframe thead tr:only-child th {\n",
       "        text-align: right;\n",
       "    }\n",
       "\n",
       "    .dataframe thead th {\n",
       "        text-align: left;\n",
       "    }\n",
       "\n",
       "    .dataframe tbody tr th {\n",
       "        vertical-align: top;\n",
       "    }\n",
       "</style>\n",
       "<table border=\"1\" class=\"dataframe\">\n",
       "  <thead>\n",
       "    <tr style=\"text-align: right;\">\n",
       "      <th></th>\n",
       "      <th>datetime</th>\n",
       "      <th>link</th>\n",
       "      <th>message</th>\n",
       "    </tr>\n",
       "  </thead>\n",
       "  <tbody>\n",
       "    <tr>\n",
       "      <th>0</th>\n",
       "      <td>2017-12-18 22:01:15</td>\n",
       "      <td>https://twitter.com/jokowi/status/942771750827...</td>\n",
       "      <td>anak muda entrepreneurs pengalaman pribadi sus...</td>\n",
       "    </tr>\n",
       "    <tr>\n",
       "      <th>1</th>\n",
       "      <td>2017-12-18 16:19:09</td>\n",
       "      <td>https://twitter.com/jokowi/status/942685658312...</td>\n",
       "      <td>bandung ketemu duo perempuan hebat indonesia m...</td>\n",
       "    </tr>\n",
       "    <tr>\n",
       "      <th>2</th>\n",
       "      <td>2017-12-18 11:36:41</td>\n",
       "      <td>https://twitter.com/jokowi/status/942614572673...</td>\n",
       "      <td>negara hadir melindungi buruh migran indonesia...</td>\n",
       "    </tr>\n",
       "    <tr>\n",
       "      <th>3</th>\n",
       "      <td>2017-12-16 22:11:24</td>\n",
       "      <td>https://twitter.com/jokowi/status/942049529460...</td>\n",
       "      <td>mengantar habibie kediamannya komplek patra ku...</td>\n",
       "    </tr>\n",
       "    <tr>\n",
       "      <th>4</th>\n",
       "      <td>2017-12-16 20:48:38</td>\n",
       "      <td>https://twitter.com/jokowi/status/942028699687...</td>\n",
       "      <td>negara dikelilingi titik gempa waspada siaga r...</td>\n",
       "    </tr>\n",
       "    <tr>\n",
       "      <th>5</th>\n",
       "      <td>2017-12-15 17:41:33</td>\n",
       "      <td>https://twitter.com/jokowi/status/941619231539...</td>\n",
       "      <td>pembangunan jalur ganda kereta api bogorsukabu...</td>\n",
       "    </tr>\n",
       "    <tr>\n",
       "      <th>6</th>\n",
       "      <td>2017-12-14 13:22:18</td>\n",
       "      <td>https://twitter.com/jokowi/status/941191598007...</td>\n",
       "      <td>inna lillahi wa inna ilaihi rojiunkita kehilan...</td>\n",
       "    </tr>\n",
       "    <tr>\n",
       "      <th>7</th>\n",
       "      <td>2017-12-13 20:13:11</td>\n",
       "      <td>https://twitter.com/jokowi/status/940932613253...</td>\n",
       "      <td>mengajak negara anggota organisasi kerja islam...</td>\n",
       "    </tr>\n",
       "    <tr>\n",
       "      <th>8</th>\n",
       "      <td>2017-12-11 19:57:21</td>\n",
       "      <td>https://twitter.com/jokowi/status/940203853617...</td>\n",
       "      <td>regulasi pisau bermata aturan izin persyaratan...</td>\n",
       "    </tr>\n",
       "    <tr>\n",
       "      <th>9</th>\n",
       "      <td>2017-12-11 07:45:34</td>\n",
       "      <td>https://twitter.com/jokowi/status/940019696295...</td>\n",
       "      <td>emang enak nggak radio joko widodo pendengar r...</td>\n",
       "    </tr>\n",
       "  </tbody>\n",
       "</table>\n",
       "</div>"
      ],
      "text/plain": [
       "             datetime                                               link  \\\n",
       "0 2017-12-18 22:01:15  https://twitter.com/jokowi/status/942771750827...   \n",
       "1 2017-12-18 16:19:09  https://twitter.com/jokowi/status/942685658312...   \n",
       "2 2017-12-18 11:36:41  https://twitter.com/jokowi/status/942614572673...   \n",
       "3 2017-12-16 22:11:24  https://twitter.com/jokowi/status/942049529460...   \n",
       "4 2017-12-16 20:48:38  https://twitter.com/jokowi/status/942028699687...   \n",
       "5 2017-12-15 17:41:33  https://twitter.com/jokowi/status/941619231539...   \n",
       "6 2017-12-14 13:22:18  https://twitter.com/jokowi/status/941191598007...   \n",
       "7 2017-12-13 20:13:11  https://twitter.com/jokowi/status/940932613253...   \n",
       "8 2017-12-11 19:57:21  https://twitter.com/jokowi/status/940203853617...   \n",
       "9 2017-12-11 07:45:34  https://twitter.com/jokowi/status/940019696295...   \n",
       "\n",
       "                                             message  \n",
       "0  anak muda entrepreneurs pengalaman pribadi sus...  \n",
       "1  bandung ketemu duo perempuan hebat indonesia m...  \n",
       "2  negara hadir melindungi buruh migran indonesia...  \n",
       "3  mengantar habibie kediamannya komplek patra ku...  \n",
       "4  negara dikelilingi titik gempa waspada siaga r...  \n",
       "5  pembangunan jalur ganda kereta api bogorsukabu...  \n",
       "6  inna lillahi wa inna ilaihi rojiunkita kehilan...  \n",
       "7  mengajak negara anggota organisasi kerja islam...  \n",
       "8  regulasi pisau bermata aturan izin persyaratan...  \n",
       "9  emang enak nggak radio joko widodo pendengar r...  "
      ]
     },
     "execution_count": 3,
     "metadata": {},
     "output_type": "execute_result"
    }
   ],
   "source": [
    "account = 'jokowi'\n",
    "\n",
    "filepath = 'data/tweets.json'\n",
    "    \n",
    "account_data = pd.read_json(filepath)\n",
    "    \n",
    "account_data.drop(\n",
    "    account_data[account_data['link'].str.lower().str.contains(account)==False].index, \n",
    "    inplace=True\n",
    ")\n",
    "    \n",
    "account_data.message = account_data.message.apply(clean_message_string)\n",
    "\n",
    "account_data.head(10)"
   ]
  },
  {
   "cell_type": "code",
   "execution_count": 4,
   "metadata": {
    "collapsed": true
   },
   "outputs": [],
   "source": [
    "result_json = account_data.to_json(orient=\"records\")\n",
    "    \n",
    "filename = 'data/normalized_tweets.json'\n",
    "    \n",
    "with open(filename, 'w', encoding='utf-8') as outfile:\n",
    "    outfile.write(result_json)"
   ]
  },
  {
   "cell_type": "code",
   "execution_count": null,
   "metadata": {
    "collapsed": true
   },
   "outputs": [],
   "source": []
  }
 ],
 "metadata": {
  "kernelspec": {
   "display_name": "Python 3",
   "language": "python",
   "name": "python3"
  },
  "language_info": {
   "codemirror_mode": {
    "name": "ipython",
    "version": 3
   },
   "file_extension": ".py",
   "mimetype": "text/x-python",
   "name": "python",
   "nbconvert_exporter": "python",
   "pygments_lexer": "ipython3",
   "version": "3.6.1"
  }
 },
 "nbformat": 4,
 "nbformat_minor": 2
}
